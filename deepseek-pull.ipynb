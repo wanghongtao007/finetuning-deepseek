{
 "cells": [
  {
   "cell_type": "code",
   "execution_count": null,
   "id": "9dcc4907-4014-4eb4-8d89-c8c8b6abe298",
   "metadata": {},
   "outputs": [],
   "source": [
    "!pip install torch"
   ]
  },
  {
   "cell_type": "code",
   "execution_count": null,
   "id": "fc277743-3c5e-4be1-a7fc-b42f6d3b400a",
   "metadata": {},
   "outputs": [],
   "source": [
    "!pip install transformers==4.34.1"
   ]
  },
  {
   "cell_type": "code",
   "execution_count": null,
   "id": "d0bc9a50-2672-408b-b150-4d3b993bac02",
   "metadata": {},
   "outputs": [],
   "source": [
    "!pip install torchvision"
   ]
  },
  {
   "cell_type": "code",
   "execution_count": null,
   "id": "1198113d-7aa9-4007-bccb-83ab4b90cdee",
   "metadata": {},
   "outputs": [],
   "source": [
    "!pip install --upgrade mlflow==2.8.1"
   ]
  },
  {
   "cell_type": "code",
   "execution_count": null,
   "id": "6fb4023a-6bfd-4768-be90-a35b9b5eb860",
   "metadata": {},
   "outputs": [],
   "source": [
    "!pip install botocore\n",
    "!pip install boto3"
   ]
  },
  {
   "cell_type": "code",
   "execution_count": null,
   "id": "eb8169ae-be13-47d4-8ef3-1e819a0b509f",
   "metadata": {},
   "outputs": [],
   "source": [
    "import torch\n",
    "import os\n",
    "import mlflow\n",
    "from transformers import AutoModelForSequenceClassification, AutoTokenizer, BatchEncoding, PreTrainedTokenizerFast\n",
    "import mlflow.pytorch\n",
    "import numpy as np\n",
    "import logging"
   ]
  },
  {
   "cell_type": "code",
   "execution_count": null,
   "id": "ad9a8dd4-eec1-4427-a980-9473c6fc5d5a",
   "metadata": {},
   "outputs": [],
   "source": [
    "\n",
    "MODEL_NAME = os.environ.get('model_name', 'deepseek-ai/DeepSeek-R1-Distill-Qwen-1.5B')\n",
    "COMPONENT_NAME = os.environ.get('component_name', 'deepseek-ai/DeepSeek-R1-Distill-Qwen-1.5B')\n",
    "from huggingface_hub import login\n",
    "login(token=\"xxxxxxxxx\")\n",
    "\n",
    "dummymodel = torch.nn.Linear(100,200)\n",
    "os.environ['MLFLOW_HTTP_REQUEST_TIMEOUT']=str(9999)\n",
    "\n",
    "logging.getLogger(\"mlflow\").setLevel(logging.DEBUG)\n"
   ]
  },
  {
   "cell_type": "code",
   "execution_count": null,
   "id": "738265cf-76e6-451b-a47d-6a50afff8011",
   "metadata": {},
   "outputs": [],
   "source": [
    "os.environ['HF_ENDPOINT'] = 'https://hf-mirror.com'\n",
    "EXCLUDE_SUFF = os.environ.get('exclude_suffix', '*.dummy')"
   ]
  },
  {
   "cell_type": "code",
   "execution_count": null,
   "id": "9402d953-5356-4b89-a421-fe66f8661014",
   "metadata": {},
   "outputs": [],
   "source": [
    "#export HF_ENDPOINT=https://hf-mirror.com\n",
    "#export HF_HOME=/mnt/workspace/huggingface\n",
    "#echo $HF_HOME\n",
    "#huggingface-cli download --resume-download deepseek-ai/DeepSeek-R1-Distill-Qwen-1.5B"
   ]
  },
  {
   "cell_type": "code",
   "execution_count": null,
   "id": "5f659381-5f20-445c-a3f7-cc232ec466b7",
   "metadata": {},
   "outputs": [],
   "source": [
    "!huggingface-cli download --exclude {EXCLUDE_SUFF} --resume-download --local-dir-use-symlinks False --local-dir {COMPONENT_NAME} {MODEL_NAME}"
   ]
  },
  {
   "cell_type": "code",
   "execution_count": null,
   "id": "bffde68a-7dd7-437f-85ba-11f78ff8cdbb",
   "metadata": {},
   "outputs": [],
   "source": []
  }
 ],
 "metadata": {
  "kernelspec": {
   "display_name": "Python 3.11",
   "language": "python",
   "name": "python3"
  },
  "language_info": {
   "codemirror_mode": {
    "name": "ipython",
    "version": 3
   },
   "file_extension": ".py",
   "mimetype": "text/x-python",
   "name": "python",
   "nbconvert_exporter": "python",
   "pygments_lexer": "ipython3",
   "version": "3.11.9"
  }
 },
 "nbformat": 4,
 "nbformat_minor": 5
}
