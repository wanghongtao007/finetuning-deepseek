{
 "cells": [
  {
   "cell_type": "code",
   "execution_count": 1,
   "id": "316b1c05-3a59-4cc9-878d-9d96bcd2b8df",
   "metadata": {
    "tags": []
   },
   "outputs": [
    {
     "name": "stdout",
     "output_type": "stream",
     "text": [
      "Requirement already satisfied: torch in /opt/app-root/lib64/python3.11/site-packages (2.6.0)\n",
      "Requirement already satisfied: filelock in /opt/app-root/lib64/python3.11/site-packages (from torch) (3.18.0)\n",
      "Requirement already satisfied: typing-extensions>=4.10.0 in /opt/app-root/lib64/python3.11/site-packages (from torch) (4.12.2)\n",
      "Requirement already satisfied: networkx in /opt/app-root/lib64/python3.11/site-packages (from torch) (3.4.2)\n",
      "Requirement already satisfied: jinja2 in /opt/app-root/lib64/python3.11/site-packages (from torch) (3.1.6)\n",
      "Requirement already satisfied: fsspec in /opt/app-root/lib64/python3.11/site-packages (from torch) (2024.12.0)\n",
      "Requirement already satisfied: nvidia-cuda-nvrtc-cu12==12.4.127 in /opt/app-root/lib64/python3.11/site-packages (from torch) (12.4.127)\n",
      "Requirement already satisfied: nvidia-cuda-runtime-cu12==12.4.127 in /opt/app-root/lib64/python3.11/site-packages (from torch) (12.4.127)\n",
      "Requirement already satisfied: nvidia-cuda-cupti-cu12==12.4.127 in /opt/app-root/lib64/python3.11/site-packages (from torch) (12.4.127)\n",
      "Requirement already satisfied: nvidia-cudnn-cu12==9.1.0.70 in /opt/app-root/lib64/python3.11/site-packages (from torch) (9.1.0.70)\n",
      "Requirement already satisfied: nvidia-cublas-cu12==12.4.5.8 in /opt/app-root/lib64/python3.11/site-packages (from torch) (12.4.5.8)\n",
      "Requirement already satisfied: nvidia-cufft-cu12==11.2.1.3 in /opt/app-root/lib64/python3.11/site-packages (from torch) (11.2.1.3)\n",
      "Requirement already satisfied: nvidia-curand-cu12==10.3.5.147 in /opt/app-root/lib64/python3.11/site-packages (from torch) (10.3.5.147)\n",
      "Requirement already satisfied: nvidia-cusolver-cu12==11.6.1.9 in /opt/app-root/lib64/python3.11/site-packages (from torch) (11.6.1.9)\n",
      "Requirement already satisfied: nvidia-cusparse-cu12==12.3.1.170 in /opt/app-root/lib64/python3.11/site-packages (from torch) (12.3.1.170)\n",
      "Requirement already satisfied: nvidia-cusparselt-cu12==0.6.2 in /opt/app-root/lib64/python3.11/site-packages (from torch) (0.6.2)\n",
      "Requirement already satisfied: nvidia-nccl-cu12==2.21.5 in /opt/app-root/lib64/python3.11/site-packages (from torch) (2.21.5)\n",
      "Requirement already satisfied: nvidia-nvtx-cu12==12.4.127 in /opt/app-root/lib64/python3.11/site-packages (from torch) (12.4.127)\n",
      "Requirement already satisfied: nvidia-nvjitlink-cu12==12.4.127 in /opt/app-root/lib64/python3.11/site-packages (from torch) (12.4.127)\n",
      "Requirement already satisfied: triton==3.2.0 in /opt/app-root/lib64/python3.11/site-packages (from torch) (3.2.0)\n",
      "Requirement already satisfied: sympy==1.13.1 in /opt/app-root/lib64/python3.11/site-packages (from torch) (1.13.1)\n",
      "Requirement already satisfied: mpmath<1.4,>=1.1.0 in /opt/app-root/lib64/python3.11/site-packages (from sympy==1.13.1->torch) (1.3.0)\n",
      "Requirement already satisfied: MarkupSafe>=2.0 in /opt/app-root/lib64/python3.11/site-packages (from jinja2->torch) (3.0.2)\n"
     ]
    }
   ],
   "source": [
    "!pip install torch"
   ]
  },
  {
   "cell_type": "code",
   "execution_count": 2,
   "id": "1223c532-57df-4a20-a6fb-ba205a8246d1",
   "metadata": {
    "tags": []
   },
   "outputs": [
    {
     "name": "stdout",
     "output_type": "stream",
     "text": [
      "Collecting transformers==4.34.1\n",
      "  Downloading transformers-4.34.1-py3-none-any.whl.metadata (121 kB)\n",
      "Requirement already satisfied: filelock in /opt/app-root/lib64/python3.11/site-packages (from transformers==4.34.1) (3.18.0)\n",
      "Requirement already satisfied: huggingface-hub<1.0,>=0.16.4 in /opt/app-root/lib64/python3.11/site-packages (from transformers==4.34.1) (0.30.2)\n",
      "Requirement already satisfied: numpy>=1.17 in /opt/app-root/lib64/python3.11/site-packages (from transformers==4.34.1) (1.26.4)\n",
      "Requirement already satisfied: packaging>=20.0 in /opt/app-root/lib64/python3.11/site-packages (from transformers==4.34.1) (24.2)\n",
      "Requirement already satisfied: pyyaml>=5.1 in /opt/app-root/lib64/python3.11/site-packages (from transformers==4.34.1) (6.0.2)\n",
      "Requirement already satisfied: regex!=2019.12.17 in /opt/app-root/lib64/python3.11/site-packages (from transformers==4.34.1) (2024.11.6)\n",
      "Requirement already satisfied: requests in /opt/app-root/lib64/python3.11/site-packages (from transformers==4.34.1) (2.32.3)\n",
      "Collecting tokenizers<0.15,>=0.14 (from transformers==4.34.1)\n",
      "  Downloading tokenizers-0.14.1-cp311-cp311-manylinux_2_17_x86_64.manylinux2014_x86_64.whl.metadata (6.7 kB)\n",
      "Requirement already satisfied: safetensors>=0.3.1 in /opt/app-root/lib64/python3.11/site-packages (from transformers==4.34.1) (0.5.3)\n",
      "Requirement already satisfied: tqdm>=4.27 in /opt/app-root/lib64/python3.11/site-packages (from transformers==4.34.1) (4.67.1)\n",
      "Requirement already satisfied: fsspec>=2023.5.0 in /opt/app-root/lib64/python3.11/site-packages (from huggingface-hub<1.0,>=0.16.4->transformers==4.34.1) (2024.12.0)\n",
      "Requirement already satisfied: typing-extensions>=3.7.4.3 in /opt/app-root/lib64/python3.11/site-packages (from huggingface-hub<1.0,>=0.16.4->transformers==4.34.1) (4.12.2)\n",
      "Collecting huggingface-hub<1.0,>=0.16.4 (from transformers==4.34.1)\n",
      "  Downloading huggingface_hub-0.17.3-py3-none-any.whl.metadata (13 kB)\n",
      "Requirement already satisfied: charset-normalizer<4,>=2 in /opt/app-root/lib64/python3.11/site-packages (from requests->transformers==4.34.1) (3.4.1)\n",
      "Requirement already satisfied: idna<4,>=2.5 in /opt/app-root/lib64/python3.11/site-packages (from requests->transformers==4.34.1) (3.10)\n",
      "Requirement already satisfied: urllib3<3,>=1.21.1 in /opt/app-root/lib64/python3.11/site-packages (from requests->transformers==4.34.1) (2.3.0)\n",
      "Requirement already satisfied: certifi>=2017.4.17 in /opt/app-root/lib64/python3.11/site-packages (from requests->transformers==4.34.1) (2025.1.31)\n",
      "Downloading transformers-4.34.1-py3-none-any.whl (7.7 MB)\n",
      "\u001b[2K   \u001b[90m━━━━━━━━━━━━━━━━━━━━━━━━━━━━━━━━━━━━━━━━\u001b[0m \u001b[32m7.7/7.7 MB\u001b[0m \u001b[31m161.2 MB/s\u001b[0m eta \u001b[36m0:00:00\u001b[0m\n",
      "\u001b[?25hDownloading tokenizers-0.14.1-cp311-cp311-manylinux_2_17_x86_64.manylinux2014_x86_64.whl (3.8 MB)\n",
      "\u001b[2K   \u001b[90m━━━━━━━━━━━━━━━━━━━━━━━━━━━━━━━━━━━━━━━━\u001b[0m \u001b[32m3.8/3.8 MB\u001b[0m \u001b[31m251.2 MB/s\u001b[0m eta \u001b[36m0:00:00\u001b[0m\n",
      "\u001b[?25hDownloading huggingface_hub-0.17.3-py3-none-any.whl (295 kB)\n",
      "Installing collected packages: huggingface-hub, tokenizers, transformers\n",
      "\u001b[2K  Attempting uninstall: huggingface-hub\n",
      "\u001b[2K    Found existing installation: huggingface-hub 0.30.2\n",
      "\u001b[2K    Uninstalling huggingface-hub-0.30.2:\n",
      "\u001b[2K      Successfully uninstalled huggingface-hub-0.30.2\n",
      "\u001b[2K  Attempting uninstall: tokenizers\n",
      "\u001b[2K    Found existing installation: tokenizers 0.21.1\n",
      "\u001b[2K    Uninstalling tokenizers-0.21.1:\n",
      "\u001b[2K      Successfully uninstalled tokenizers-0.21.1\n",
      "\u001b[2K  Attempting uninstall: transformers[90m━━━━━━━━━━━━━━━━━━━━━━━━━━\u001b[0m \u001b[32m1/3\u001b[0m [tokenizers]\n",
      "\u001b[2K    Found existing installation: transformers 4.51.1━━━━━━━━━━\u001b[0m \u001b[32m1/3\u001b[0m [tokenizers]\n",
      "\u001b[2K    Uninstalling transformers-4.51.1:m\u001b[91m╸\u001b[0m\u001b[90m━━━━━━━━━━━━━\u001b[0m \u001b[32m2/3\u001b[0m [transformers]\n",
      "\u001b[2K      Successfully uninstalled transformers-4.51.1━━━━━━━━━━━━\u001b[0m \u001b[32m2/3\u001b[0m [transformers]\n",
      "\u001b[2K   \u001b[90m━━━━━━━━━━━━━━━━━━━━━━━━━━━━━━━━━━━━━━━━\u001b[0m \u001b[32m3/3\u001b[0m [transformers][0m [transformers]\n",
      "\u001b[1A\u001b[2K\u001b[31mERROR: pip's dependency resolver does not currently take into account all the packages that are installed. This behaviour is the source of the following dependency conflicts.\n",
      "gradio-client 1.8.0 requires huggingface-hub>=0.19.3, but you have huggingface-hub 0.17.3 which is incompatible.\n",
      "datasets 3.5.0 requires huggingface-hub>=0.24.0, but you have huggingface-hub 0.17.3 which is incompatible.\n",
      "gradio 5.25.0 requires huggingface-hub>=0.28.1, but you have huggingface-hub 0.17.3 which is incompatible.\n",
      "accelerate 1.6.0 requires huggingface-hub>=0.21.0, but you have huggingface-hub 0.17.3 which is incompatible.\n",
      "peft 0.15.1 requires huggingface_hub>=0.25.0, but you have huggingface-hub 0.17.3 which is incompatible.\n",
      "llamafactory 0.9.3.dev0 requires tokenizers<=0.21.1,>=0.19.0, but you have tokenizers 0.14.1 which is incompatible.\n",
      "llamafactory 0.9.3.dev0 requires transformers!=4.46.*,!=4.47.*,!=4.48.0,<=4.51.3,>=4.45.0, but you have transformers 4.34.1 which is incompatible.\n",
      "xgrammar 0.1.17 requires transformers>=4.38.0, but you have transformers 4.34.1 which is incompatible.\u001b[0m\u001b[31m\n",
      "\u001b[0mSuccessfully installed huggingface-hub-0.17.3 tokenizers-0.14.1 transformers-4.34.1\n"
     ]
    }
   ],
   "source": [
    "!pip install transformers==4.34.1"
   ]
  },
  {
   "cell_type": "code",
   "execution_count": 3,
   "id": "9d107ade-550f-4ca8-a6e1-a8122164002c",
   "metadata": {
    "tags": []
   },
   "outputs": [
    {
     "name": "stdout",
     "output_type": "stream",
     "text": [
      "Requirement already satisfied: torchvision in /opt/app-root/lib64/python3.11/site-packages (0.21.0)\n",
      "Requirement already satisfied: numpy in /opt/app-root/lib64/python3.11/site-packages (from torchvision) (1.26.4)\n",
      "Requirement already satisfied: torch==2.6.0 in /opt/app-root/lib64/python3.11/site-packages (from torchvision) (2.6.0)\n",
      "Requirement already satisfied: pillow!=8.3.*,>=5.3.0 in /opt/app-root/lib64/python3.11/site-packages (from torchvision) (11.2.1)\n",
      "Requirement already satisfied: filelock in /opt/app-root/lib64/python3.11/site-packages (from torch==2.6.0->torchvision) (3.18.0)\n",
      "Requirement already satisfied: typing-extensions>=4.10.0 in /opt/app-root/lib64/python3.11/site-packages (from torch==2.6.0->torchvision) (4.12.2)\n",
      "Requirement already satisfied: networkx in /opt/app-root/lib64/python3.11/site-packages (from torch==2.6.0->torchvision) (3.4.2)\n",
      "Requirement already satisfied: jinja2 in /opt/app-root/lib64/python3.11/site-packages (from torch==2.6.0->torchvision) (3.1.6)\n",
      "Requirement already satisfied: fsspec in /opt/app-root/lib64/python3.11/site-packages (from torch==2.6.0->torchvision) (2024.12.0)\n",
      "Requirement already satisfied: nvidia-cuda-nvrtc-cu12==12.4.127 in /opt/app-root/lib64/python3.11/site-packages (from torch==2.6.0->torchvision) (12.4.127)\n",
      "Requirement already satisfied: nvidia-cuda-runtime-cu12==12.4.127 in /opt/app-root/lib64/python3.11/site-packages (from torch==2.6.0->torchvision) (12.4.127)\n",
      "Requirement already satisfied: nvidia-cuda-cupti-cu12==12.4.127 in /opt/app-root/lib64/python3.11/site-packages (from torch==2.6.0->torchvision) (12.4.127)\n",
      "Requirement already satisfied: nvidia-cudnn-cu12==9.1.0.70 in /opt/app-root/lib64/python3.11/site-packages (from torch==2.6.0->torchvision) (9.1.0.70)\n",
      "Requirement already satisfied: nvidia-cublas-cu12==12.4.5.8 in /opt/app-root/lib64/python3.11/site-packages (from torch==2.6.0->torchvision) (12.4.5.8)\n",
      "Requirement already satisfied: nvidia-cufft-cu12==11.2.1.3 in /opt/app-root/lib64/python3.11/site-packages (from torch==2.6.0->torchvision) (11.2.1.3)\n",
      "Requirement already satisfied: nvidia-curand-cu12==10.3.5.147 in /opt/app-root/lib64/python3.11/site-packages (from torch==2.6.0->torchvision) (10.3.5.147)\n",
      "Requirement already satisfied: nvidia-cusolver-cu12==11.6.1.9 in /opt/app-root/lib64/python3.11/site-packages (from torch==2.6.0->torchvision) (11.6.1.9)\n",
      "Requirement already satisfied: nvidia-cusparse-cu12==12.3.1.170 in /opt/app-root/lib64/python3.11/site-packages (from torch==2.6.0->torchvision) (12.3.1.170)\n",
      "Requirement already satisfied: nvidia-cusparselt-cu12==0.6.2 in /opt/app-root/lib64/python3.11/site-packages (from torch==2.6.0->torchvision) (0.6.2)\n",
      "Requirement already satisfied: nvidia-nccl-cu12==2.21.5 in /opt/app-root/lib64/python3.11/site-packages (from torch==2.6.0->torchvision) (2.21.5)\n",
      "Requirement already satisfied: nvidia-nvtx-cu12==12.4.127 in /opt/app-root/lib64/python3.11/site-packages (from torch==2.6.0->torchvision) (12.4.127)\n",
      "Requirement already satisfied: nvidia-nvjitlink-cu12==12.4.127 in /opt/app-root/lib64/python3.11/site-packages (from torch==2.6.0->torchvision) (12.4.127)\n",
      "Requirement already satisfied: triton==3.2.0 in /opt/app-root/lib64/python3.11/site-packages (from torch==2.6.0->torchvision) (3.2.0)\n",
      "Requirement already satisfied: sympy==1.13.1 in /opt/app-root/lib64/python3.11/site-packages (from torch==2.6.0->torchvision) (1.13.1)\n",
      "Requirement already satisfied: mpmath<1.4,>=1.1.0 in /opt/app-root/lib64/python3.11/site-packages (from sympy==1.13.1->torch==2.6.0->torchvision) (1.3.0)\n",
      "Requirement already satisfied: MarkupSafe>=2.0 in /opt/app-root/lib64/python3.11/site-packages (from jinja2->torch==2.6.0->torchvision) (3.0.2)\n"
     ]
    }
   ],
   "source": [
    "!pip install torchvision"
   ]
  },
  {
   "cell_type": "code",
   "execution_count": 4,
   "id": "cdb8c071-40ea-407a-8211-b1928f3ad19d",
   "metadata": {
    "tags": []
   },
   "outputs": [
    {
     "name": "stdout",
     "output_type": "stream",
     "text": [
      "Collecting mlflow==2.8.1\n",
      "  Downloading mlflow-2.8.1-py3-none-any.whl.metadata (13 kB)\n",
      "Requirement already satisfied: click<9,>=7.0 in /opt/app-root/lib64/python3.11/site-packages (from mlflow==2.8.1) (8.1.8)\n",
      "Collecting cloudpickle<3 (from mlflow==2.8.1)\n",
      "  Downloading cloudpickle-2.2.1-py3-none-any.whl.metadata (6.9 kB)\n",
      "Collecting databricks-cli<1,>=0.8.7 (from mlflow==2.8.1)\n",
      "  Downloading databricks_cli-0.18.0-py2.py3-none-any.whl.metadata (4.0 kB)\n",
      "Collecting entrypoints<1 (from mlflow==2.8.1)\n",
      "  Downloading entrypoints-0.4-py3-none-any.whl.metadata (2.6 kB)\n",
      "Requirement already satisfied: gitpython<4,>=2.1.0 in /opt/app-root/lib64/python3.11/site-packages (from mlflow==2.8.1) (3.1.44)\n",
      "Requirement already satisfied: pyyaml<7,>=5.1 in /opt/app-root/lib64/python3.11/site-packages (from mlflow==2.8.1) (6.0.2)\n",
      "Requirement already satisfied: protobuf<5,>=3.12.0 in /opt/app-root/lib64/python3.11/site-packages (from mlflow==2.8.1) (4.25.7)\n",
      "Collecting pytz<2024 (from mlflow==2.8.1)\n",
      "  Downloading pytz-2023.4-py2.py3-none-any.whl.metadata (22 kB)\n",
      "Requirement already satisfied: requests<3,>=2.17.3 in /opt/app-root/lib64/python3.11/site-packages (from mlflow==2.8.1) (2.32.3)\n",
      "Collecting packaging<24 (from mlflow==2.8.1)\n",
      "  Downloading packaging-23.2-py3-none-any.whl.metadata (3.2 kB)\n",
      "Collecting importlib-metadata!=4.7.0,<7,>=3.7.0 (from mlflow==2.8.1)\n",
      "  Downloading importlib_metadata-6.11.0-py3-none-any.whl.metadata (4.9 kB)\n",
      "Collecting sqlparse<1,>=0.4.0 (from mlflow==2.8.1)\n",
      "  Downloading sqlparse-0.5.3-py3-none-any.whl.metadata (3.9 kB)\n",
      "Collecting alembic!=1.10.0,<2 (from mlflow==2.8.1)\n",
      "  Downloading alembic-1.15.2-py3-none-any.whl.metadata (7.3 kB)\n",
      "Collecting docker<7,>=4.0.0 (from mlflow==2.8.1)\n",
      "  Downloading docker-6.1.3-py3-none-any.whl.metadata (3.5 kB)\n",
      "Collecting Flask<4 (from mlflow==2.8.1)\n",
      "  Downloading flask-3.1.0-py3-none-any.whl.metadata (2.7 kB)\n",
      "Requirement already satisfied: numpy<2 in /opt/app-root/lib64/python3.11/site-packages (from mlflow==2.8.1) (1.26.4)\n",
      "Requirement already satisfied: scipy<2 in /opt/app-root/lib64/python3.11/site-packages (from mlflow==2.8.1) (1.15.2)\n",
      "Requirement already satisfied: pandas<3 in /opt/app-root/lib64/python3.11/site-packages (from mlflow==2.8.1) (2.2.3)\n",
      "Collecting querystring-parser<2 (from mlflow==2.8.1)\n",
      "  Downloading querystring_parser-1.2.4-py2.py3-none-any.whl.metadata (559 bytes)\n",
      "Collecting sqlalchemy<3,>=1.4.0 (from mlflow==2.8.1)\n",
      "  Downloading sqlalchemy-2.0.40-cp311-cp311-manylinux_2_17_x86_64.manylinux2014_x86_64.whl.metadata (9.6 kB)\n",
      "Requirement already satisfied: scikit-learn<2 in /opt/app-root/lib64/python3.11/site-packages (from mlflow==2.8.1) (1.6.1)\n",
      "Collecting pyarrow<15,>=4.0.0 (from mlflow==2.8.1)\n",
      "  Downloading pyarrow-14.0.2-cp311-cp311-manylinux_2_28_x86_64.whl.metadata (3.0 kB)\n",
      "Collecting markdown<4,>=3.3 (from mlflow==2.8.1)\n",
      "  Downloading markdown-3.8-py3-none-any.whl.metadata (5.1 kB)\n",
      "Requirement already satisfied: matplotlib<4 in /opt/app-root/lib64/python3.11/site-packages (from mlflow==2.8.1) (3.10.1)\n",
      "Collecting gunicorn<22 (from mlflow==2.8.1)\n",
      "  Downloading gunicorn-21.2.0-py3-none-any.whl.metadata (4.1 kB)\n",
      "Requirement already satisfied: Jinja2<4,>=2.11 in /opt/app-root/lib64/python3.11/site-packages (from mlflow==2.8.1) (3.1.6)\n",
      "Collecting Mako (from alembic!=1.10.0,<2->mlflow==2.8.1)\n",
      "  Downloading mako-1.3.10-py3-none-any.whl.metadata (2.9 kB)\n",
      "Requirement already satisfied: typing-extensions>=4.12 in /opt/app-root/lib64/python3.11/site-packages (from alembic!=1.10.0,<2->mlflow==2.8.1) (4.12.2)\n",
      "Collecting pyjwt>=1.7.0 (from databricks-cli<1,>=0.8.7->mlflow==2.8.1)\n",
      "  Downloading PyJWT-2.10.1-py3-none-any.whl.metadata (4.0 kB)\n",
      "Collecting oauthlib>=3.1.0 (from databricks-cli<1,>=0.8.7->mlflow==2.8.1)\n",
      "  Downloading oauthlib-3.2.2-py3-none-any.whl.metadata (7.5 kB)\n",
      "Collecting tabulate>=0.7.7 (from databricks-cli<1,>=0.8.7->mlflow==2.8.1)\n",
      "  Downloading tabulate-0.9.0-py3-none-any.whl.metadata (34 kB)\n",
      "Requirement already satisfied: six>=1.10.0 in /opt/app-root/lib64/python3.11/site-packages (from databricks-cli<1,>=0.8.7->mlflow==2.8.1) (1.17.0)\n",
      "Requirement already satisfied: urllib3<3,>=1.26.7 in /opt/app-root/lib64/python3.11/site-packages (from databricks-cli<1,>=0.8.7->mlflow==2.8.1) (2.3.0)\n",
      "Requirement already satisfied: websocket-client>=0.32.0 in /opt/app-root/lib64/python3.11/site-packages (from docker<7,>=4.0.0->mlflow==2.8.1) (1.8.0)\n",
      "Collecting Werkzeug>=3.1 (from Flask<4->mlflow==2.8.1)\n",
      "  Downloading werkzeug-3.1.3-py3-none-any.whl.metadata (3.7 kB)\n",
      "Collecting itsdangerous>=2.2 (from Flask<4->mlflow==2.8.1)\n",
      "  Downloading itsdangerous-2.2.0-py3-none-any.whl.metadata (1.9 kB)\n",
      "Collecting blinker>=1.9 (from Flask<4->mlflow==2.8.1)\n",
      "  Downloading blinker-1.9.0-py3-none-any.whl.metadata (1.6 kB)\n",
      "Requirement already satisfied: gitdb<5,>=4.0.1 in /opt/app-root/lib64/python3.11/site-packages (from gitpython<4,>=2.1.0->mlflow==2.8.1) (4.0.12)\n",
      "Requirement already satisfied: smmap<6,>=3.0.1 in /opt/app-root/lib64/python3.11/site-packages (from gitdb<5,>=4.0.1->gitpython<4,>=2.1.0->mlflow==2.8.1) (5.0.2)\n",
      "Requirement already satisfied: zipp>=0.5 in /opt/app-root/lib64/python3.11/site-packages (from importlib-metadata!=4.7.0,<7,>=3.7.0->mlflow==2.8.1) (3.21.0)\n",
      "Requirement already satisfied: MarkupSafe>=2.0 in /opt/app-root/lib64/python3.11/site-packages (from Jinja2<4,>=2.11->mlflow==2.8.1) (3.0.2)\n",
      "Requirement already satisfied: contourpy>=1.0.1 in /opt/app-root/lib64/python3.11/site-packages (from matplotlib<4->mlflow==2.8.1) (1.3.2)\n",
      "Requirement already satisfied: cycler>=0.10 in /opt/app-root/lib64/python3.11/site-packages (from matplotlib<4->mlflow==2.8.1) (0.12.1)\n",
      "Requirement already satisfied: fonttools>=4.22.0 in /opt/app-root/lib64/python3.11/site-packages (from matplotlib<4->mlflow==2.8.1) (4.57.0)\n",
      "Requirement already satisfied: kiwisolver>=1.3.1 in /opt/app-root/lib64/python3.11/site-packages (from matplotlib<4->mlflow==2.8.1) (1.4.8)\n",
      "Requirement already satisfied: pillow>=8 in /opt/app-root/lib64/python3.11/site-packages (from matplotlib<4->mlflow==2.8.1) (11.2.1)\n",
      "Requirement already satisfied: pyparsing>=2.3.1 in /opt/app-root/lib64/python3.11/site-packages (from matplotlib<4->mlflow==2.8.1) (3.2.3)\n",
      "Requirement already satisfied: python-dateutil>=2.7 in /opt/app-root/lib64/python3.11/site-packages (from matplotlib<4->mlflow==2.8.1) (2.9.0.post0)\n",
      "Requirement already satisfied: tzdata>=2022.7 in /opt/app-root/lib64/python3.11/site-packages (from pandas<3->mlflow==2.8.1) (2025.2)\n",
      "Requirement already satisfied: charset-normalizer<4,>=2 in /opt/app-root/lib64/python3.11/site-packages (from requests<3,>=2.17.3->mlflow==2.8.1) (3.4.1)\n",
      "Requirement already satisfied: idna<4,>=2.5 in /opt/app-root/lib64/python3.11/site-packages (from requests<3,>=2.17.3->mlflow==2.8.1) (3.10)\n",
      "Requirement already satisfied: certifi>=2017.4.17 in /opt/app-root/lib64/python3.11/site-packages (from requests<3,>=2.17.3->mlflow==2.8.1) (2025.1.31)\n",
      "Requirement already satisfied: joblib>=1.2.0 in /opt/app-root/lib64/python3.11/site-packages (from scikit-learn<2->mlflow==2.8.1) (1.5.0)\n",
      "Requirement already satisfied: threadpoolctl>=3.1.0 in /opt/app-root/lib64/python3.11/site-packages (from scikit-learn<2->mlflow==2.8.1) (3.6.0)\n",
      "Collecting greenlet>=1 (from sqlalchemy<3,>=1.4.0->mlflow==2.8.1)\n",
      "  Downloading greenlet-3.2.1-cp311-cp311-manylinux_2_24_x86_64.manylinux_2_28_x86_64.whl.metadata (4.1 kB)\n",
      "Downloading mlflow-2.8.1-py3-none-any.whl (19.0 MB)\n",
      "\u001b[2K   \u001b[90m━━━━━━━━━━━━━━━━━━━━━━━━━━━━━━━━━━━━━━━━\u001b[0m \u001b[32m19.0/19.0 MB\u001b[0m \u001b[31m196.0 MB/s\u001b[0m eta \u001b[36m0:00:00\u001b[0m\n",
      "\u001b[?25hDownloading alembic-1.15.2-py3-none-any.whl (231 kB)\n",
      "Downloading cloudpickle-2.2.1-py3-none-any.whl (25 kB)\n",
      "Downloading databricks_cli-0.18.0-py2.py3-none-any.whl (150 kB)\n",
      "Downloading docker-6.1.3-py3-none-any.whl (148 kB)\n",
      "Downloading entrypoints-0.4-py3-none-any.whl (5.3 kB)\n",
      "Downloading flask-3.1.0-py3-none-any.whl (102 kB)\n",
      "Downloading gunicorn-21.2.0-py3-none-any.whl (80 kB)\n",
      "Downloading importlib_metadata-6.11.0-py3-none-any.whl (23 kB)\n",
      "Downloading markdown-3.8-py3-none-any.whl (106 kB)\n",
      "Downloading packaging-23.2-py3-none-any.whl (53 kB)\n",
      "Downloading pyarrow-14.0.2-cp311-cp311-manylinux_2_28_x86_64.whl (38.0 MB)\n",
      "\u001b[2K   \u001b[90m━━━━━━━━━━━━━━━━━━━━━━━━━━━━━━━━━━━━━━━━\u001b[0m \u001b[32m38.0/38.0 MB\u001b[0m \u001b[31m240.5 MB/s\u001b[0m eta \u001b[36m0:00:00\u001b[0m\n",
      "\u001b[?25hDownloading pytz-2023.4-py2.py3-none-any.whl (506 kB)\n",
      "Downloading querystring_parser-1.2.4-py2.py3-none-any.whl (7.9 kB)\n",
      "Downloading sqlalchemy-2.0.40-cp311-cp311-manylinux_2_17_x86_64.manylinux2014_x86_64.whl (3.2 MB)\n",
      "\u001b[2K   \u001b[90m━━━━━━━━━━━━━━━━━━━━━━━━━━━━━━━━━━━━━━━━\u001b[0m \u001b[32m3.2/3.2 MB\u001b[0m \u001b[31m270.6 MB/s\u001b[0m eta \u001b[36m0:00:00\u001b[0m\n",
      "\u001b[?25hDownloading sqlparse-0.5.3-py3-none-any.whl (44 kB)\n",
      "Downloading blinker-1.9.0-py3-none-any.whl (8.5 kB)\n",
      "Downloading greenlet-3.2.1-cp311-cp311-manylinux_2_24_x86_64.manylinux_2_28_x86_64.whl (583 kB)\n",
      "\u001b[2K   \u001b[90m━━━━━━━━━━━━━━━━━━━━━━━━━━━━━━━━━━━━━━━\u001b[0m \u001b[32m583.9/583.9 kB\u001b[0m \u001b[31m664.7 MB/s\u001b[0m eta \u001b[36m0:00:00\u001b[0m\n",
      "\u001b[?25hDownloading itsdangerous-2.2.0-py3-none-any.whl (16 kB)\n",
      "Downloading oauthlib-3.2.2-py3-none-any.whl (151 kB)\n",
      "Downloading PyJWT-2.10.1-py3-none-any.whl (22 kB)\n",
      "Downloading tabulate-0.9.0-py3-none-any.whl (35 kB)\n",
      "Downloading werkzeug-3.1.3-py3-none-any.whl (224 kB)\n",
      "Downloading mako-1.3.10-py3-none-any.whl (78 kB)\n",
      "Installing collected packages: pytz, Werkzeug, tabulate, sqlparse, querystring-parser, pyjwt, pyarrow, packaging, oauthlib, markdown, Mako, itsdangerous, importlib-metadata, greenlet, entrypoints, cloudpickle, blinker, sqlalchemy, gunicorn, Flask, docker, databricks-cli, alembic, mlflow\n",
      "\u001b[2K  Attempting uninstall: pytz\n",
      "\u001b[2K    Found existing installation: pytz 2025.2\n",
      "\u001b[2K    Uninstalling pytz-2025.2:\n",
      "\u001b[2K      Successfully uninstalled pytz-2025.2\n",
      "\u001b[2K  Attempting uninstall: pyarrow━━━━━━━━━━━━━━━━━━━━━━━━━━━━━━━━━━━\u001b[0m \u001b[32m 1/24\u001b[0m [Werkzeug]\n",
      "\u001b[2K    Found existing installation: pyarrow 20.0.0━━━━━━━━━━━━━━━\u001b[0m \u001b[32m 1/24\u001b[0m [Werkzeug]\n",
      "\u001b[2K    Uninstalling pyarrow-20.0.0:\u001b[90m━━━━━━━━━━━━━━━━━━━━━━━━━━━━━\u001b[0m \u001b[32m 6/24\u001b[0m [pyarrow]\n",
      "\u001b[2K      Successfully uninstalled pyarrow-20.0.0━━━━━━━━━━━━━━━━━\u001b[0m \u001b[32m 6/24\u001b[0m [pyarrow]\n",
      "\u001b[2K  Attempting uninstall: packaging[90m━━━━━━━━━━━━━━━━━━━━━━━━━━━━━\u001b[0m \u001b[32m 6/24\u001b[0m [pyarrow]\n",
      "\u001b[2K    Found existing installation: packaging 24.2━━━━━━━━━━━━━━━\u001b[0m \u001b[32m 6/24\u001b[0m [pyarrow]\n",
      "\u001b[2K    Uninstalling packaging-24.2:m━━━━━━━━━━━━━━━━━━━━━━━━━━━━━\u001b[0m \u001b[32m 6/24\u001b[0m [pyarrow]\n",
      "\u001b[2K      Successfully uninstalled packaging-24.2━━━━━━━━━━━━━━━━━━━━━\u001b[0m \u001b[32m 7/24\u001b[0m [packaging]\n",
      "\u001b[2K  Attempting uninstall: importlib-metadatam━━━━━━━━━━━━━━━━━━━━━━━\u001b[0m \u001b[32m10/24\u001b[0m [Mako]]\n",
      "\u001b[2K    Found existing installation: importlib_metadata 8.0.0━━━━━\u001b[0m \u001b[32m10/24\u001b[0m [Mako]\n",
      "\u001b[2K    Uninstalling importlib_metadata-8.0.0:━━━━━━━━━━━━━━━━━━━━\u001b[0m \u001b[32m10/24\u001b[0m [Mako]\n",
      "\u001b[2K      Successfully uninstalled importlib_metadata-8.0.0━━━━━━━\u001b[0m \u001b[32m10/24\u001b[0m [Mako]\n",
      "\u001b[2K  Attempting uninstall: cloudpickle[90m━━━━━━━━━━━━━━━━━━━━━━━\u001b[0m \u001b[32m10/24\u001b[0m [Mako]\n",
      "\u001b[2K    Found existing installation: cloudpickle 3.1.1━━━━━━━━━━━━\u001b[0m \u001b[32m10/24\u001b[0m [Mako]\n",
      "\u001b[2K    Uninstalling cloudpickle-3.1.1:[90m━━━━━━━━━━━━━━━━━━━━━━━\u001b[0m \u001b[32m10/24\u001b[0m [Mako]\n",
      "\u001b[2K      Successfully uninstalled cloudpickle-3.1.1━━━━━━━━━━━━━━\u001b[0m \u001b[32m10/24\u001b[0m [Mako]\n",
      "\u001b[2K   \u001b[90m━━━━━━━━━━━━━━━━━━━━━━━━━━━━━━━━━━━━━━━━\u001b[0m \u001b[32m24/24\u001b[0m [mlflow]23/24\u001b[0m [mlflow]]my]\n",
      "\u001b[1A\u001b[2K\u001b[31mERROR: pip's dependency resolver does not currently take into account all the packages that are installed. This behaviour is the source of the following dependency conflicts.\n",
      "gradio-client 1.8.0 requires huggingface-hub>=0.19.3, but you have huggingface-hub 0.17.3 which is incompatible.\n",
      "datasets 3.5.0 requires huggingface-hub>=0.24.0, but you have huggingface-hub 0.17.3 which is incompatible.\n",
      "datasets 3.5.0 requires pyarrow>=15.0.0, but you have pyarrow 14.0.2 which is incompatible.\n",
      "gradio 5.25.0 requires huggingface-hub>=0.28.1, but you have huggingface-hub 0.17.3 which is incompatible.\n",
      "accelerate 1.6.0 requires huggingface-hub>=0.21.0, but you have huggingface-hub 0.17.3 which is incompatible.\n",
      "peft 0.15.1 requires huggingface_hub>=0.25.0, but you have huggingface-hub 0.17.3 which is incompatible.\n",
      "llamafactory 0.9.3.dev0 requires tokenizers<=0.21.1,>=0.19.0, but you have tokenizers 0.14.1 which is incompatible.\n",
      "llamafactory 0.9.3.dev0 requires transformers!=4.46.*,!=4.47.*,!=4.48.0,<=4.51.3,>=4.45.0, but you have transformers 4.34.1 which is incompatible.\u001b[0m\u001b[31m\n",
      "\u001b[0mSuccessfully installed Flask-3.1.0 Mako-1.3.10 Werkzeug-3.1.3 alembic-1.15.2 blinker-1.9.0 cloudpickle-2.2.1 databricks-cli-0.18.0 docker-6.1.3 entrypoints-0.4 greenlet-3.2.1 gunicorn-21.2.0 importlib-metadata-6.11.0 itsdangerous-2.2.0 markdown-3.8 mlflow-2.8.1 oauthlib-3.2.2 packaging-23.2 pyarrow-14.0.2 pyjwt-2.10.1 pytz-2023.4 querystring-parser-1.2.4 sqlalchemy-2.0.40 sqlparse-0.5.3 tabulate-0.9.0\n"
     ]
    }
   ],
   "source": [
    "!pip install --upgrade mlflow==2.8.1"
   ]
  },
  {
   "cell_type": "code",
   "execution_count": 5,
   "id": "924088de-1388-441a-bb27-0cb46cdb707b",
   "metadata": {
    "tags": []
   },
   "outputs": [
    {
     "name": "stdout",
     "output_type": "stream",
     "text": [
      "Collecting botocore\n",
      "  Downloading botocore-1.38.9-py3-none-any.whl.metadata (5.7 kB)\n",
      "Collecting jmespath<2.0.0,>=0.7.1 (from botocore)\n",
      "  Downloading jmespath-1.0.1-py3-none-any.whl.metadata (7.6 kB)\n",
      "Requirement already satisfied: python-dateutil<3.0.0,>=2.1 in /opt/app-root/lib64/python3.11/site-packages (from botocore) (2.9.0.post0)\n",
      "Requirement already satisfied: urllib3!=2.2.0,<3,>=1.25.4 in /opt/app-root/lib64/python3.11/site-packages (from botocore) (2.3.0)\n",
      "Requirement already satisfied: six>=1.5 in /opt/app-root/lib64/python3.11/site-packages (from python-dateutil<3.0.0,>=2.1->botocore) (1.17.0)\n",
      "Downloading botocore-1.38.9-py3-none-any.whl (13.5 MB)\n",
      "\u001b[2K   \u001b[90m━━━━━━━━━━━━━━━━━━━━━━━━━━━━━━━━━━━━━━━━\u001b[0m \u001b[32m13.5/13.5 MB\u001b[0m \u001b[31m172.5 MB/s\u001b[0m eta \u001b[36m0:00:00\u001b[0m\n",
      "\u001b[?25hDownloading jmespath-1.0.1-py3-none-any.whl (20 kB)\n",
      "Installing collected packages: jmespath, botocore\n",
      "\u001b[2K   \u001b[90m━━━━━━━━━━━━━━━━━━━━━━━━━━━━━━━━━━━━━━━━\u001b[0m \u001b[32m2/2\u001b[0m [botocore]1/2\u001b[0m [botocore]\n",
      "\u001b[1A\u001b[2KSuccessfully installed botocore-1.38.9 jmespath-1.0.1\n",
      "Collecting boto3\n",
      "  Downloading boto3-1.38.9-py3-none-any.whl.metadata (6.6 kB)\n",
      "Requirement already satisfied: botocore<1.39.0,>=1.38.9 in /opt/app-root/lib64/python3.11/site-packages (from boto3) (1.38.9)\n",
      "Requirement already satisfied: jmespath<2.0.0,>=0.7.1 in /opt/app-root/lib64/python3.11/site-packages (from boto3) (1.0.1)\n",
      "Collecting s3transfer<0.13.0,>=0.12.0 (from boto3)\n",
      "  Downloading s3transfer-0.12.0-py3-none-any.whl.metadata (1.7 kB)\n",
      "Requirement already satisfied: python-dateutil<3.0.0,>=2.1 in /opt/app-root/lib64/python3.11/site-packages (from botocore<1.39.0,>=1.38.9->boto3) (2.9.0.post0)\n",
      "Requirement already satisfied: urllib3!=2.2.0,<3,>=1.25.4 in /opt/app-root/lib64/python3.11/site-packages (from botocore<1.39.0,>=1.38.9->boto3) (2.3.0)\n",
      "Requirement already satisfied: six>=1.5 in /opt/app-root/lib64/python3.11/site-packages (from python-dateutil<3.0.0,>=2.1->botocore<1.39.0,>=1.38.9->boto3) (1.17.0)\n",
      "Downloading boto3-1.38.9-py3-none-any.whl (139 kB)\n",
      "Downloading s3transfer-0.12.0-py3-none-any.whl (84 kB)\n",
      "Installing collected packages: s3transfer, boto3\n",
      "\u001b[2K   \u001b[90m━━━━━━━━━━━━━━━━━━━━━━━━━━━━━━━━━━━━━━━━\u001b[0m \u001b[32m2/2\u001b[0m [boto3]\n",
      "\u001b[1A\u001b[2KSuccessfully installed boto3-1.38.9 s3transfer-0.12.0\n"
     ]
    }
   ],
   "source": [
    "!pip install botocore\n",
    "!pip install boto3"
   ]
  },
  {
   "cell_type": "code",
   "execution_count": 6,
   "id": "b47030e5-e840-4999-aeec-c5d8e253b06d",
   "metadata": {
    "tags": []
   },
   "outputs": [
    {
     "name": "stderr",
     "output_type": "stream",
     "text": [
      "/opt/app-root/lib64/python3.11/site-packages/pydantic/_internal/_config.py:345: UserWarning: Valid config keys have changed in V2:\n",
      "* 'schema_extra' has been renamed to 'json_schema_extra'\n",
      "  warnings.warn(message, UserWarning)\n",
      "/opt/app-root/lib64/python3.11/site-packages/tqdm/auto.py:21: TqdmWarning: IProgress not found. Please update jupyter and ipywidgets. See https://ipywidgets.readthedocs.io/en/stable/user_install.html\n",
      "  from .autonotebook import tqdm as notebook_tqdm\n"
     ]
    }
   ],
   "source": [
    "import torch\n",
    "import os\n",
    "import mlflow\n",
    "from transformers import AutoModelForSequenceClassification, AutoTokenizer, BatchEncoding, PreTrainedTokenizerFast\n",
    "import mlflow.pytorch\n",
    "import numpy as np\n",
    "import logging"
   ]
  },
  {
   "cell_type": "code",
   "execution_count": 7,
   "id": "b9207613-a02f-473b-89bc-8e97c866ab29",
   "metadata": {
    "tags": []
   },
   "outputs": [],
   "source": [
    "\n",
    "\n",
    "#open debug to check more info\n",
    "\n",
    "#replace it with env then\n",
    "#MODEL_NAME = 'vectara/hallucination_evaluation_model'\n",
    "#COMPONENT_NAME = 'vecara'\n",
    "# MODEL_NAME = 'microsoft/DialoGPT-large'\n",
    "# COMPONENT_NAME = 'DialoGPT'\n",
    "#MODEL_NAME = os.environ.get('model_name', 'vectara/hallucination_evaluation_model')\n",
    "#COMPONENT_NAME = os.environ.get('component_name', 'vectara')\n",
    "MODEL_NAME = os.environ.get('model_name', 'LLaMA-Factory/mydeepseek/')\n",
    "COMPONENT_NAME = os.environ.get('component_name', 'LLaMA-Factory/mydeepseek/')\n",
    "\n",
    "dummymodel = torch.nn.Linear(100,200)\n",
    "os.environ['MLFLOW_HTTP_REQUEST_TIMEOUT']=str(9999)\n",
    "\n",
    "logging.getLogger(\"mlflow\").setLevel(logging.DEBUG)\n",
    "\n",
    "# tokenizer = AutoTokenizer.from_pretrained(MODEL_NAME, resume_download=True)\n",
    "# model = AutoModelForSequenceClassification.from_pretrained(MODEL_NAME, resume_download=True)\n",
    "# model.eval()\n",
    "#no need to change to inference mode\n",
    "# model.savepretrained(\"/yi-34b-200k\")"
   ]
  },
  {
   "cell_type": "code",
   "execution_count": 8,
   "id": "adc3eb3a-b93f-40c6-a32e-18a7d7c3b7a0",
   "metadata": {
    "tags": []
   },
   "outputs": [],
   "source": [
    "\n",
    "# assign directory\n",
    "directory = COMPONENT_NAME\n"
   ]
  },
  {
   "cell_type": "code",
   "execution_count": 9,
   "id": "a2b82b5f-04f2-4daf-829d-26a98cf97579",
   "metadata": {
    "tags": []
   },
   "outputs": [
    {
     "name": "stdout",
     "output_type": "stream",
     "text": [
      "mymodel/LLaMA-Factory/mydeepseek/generation_config.json\n",
      "mymodel/LLaMA-Factory/mydeepseek/tokenizer.json\n",
      "mymodel/LLaMA-Factory/mydeepseek/Modelfile\n",
      "mymodel/LLaMA-Factory/mydeepseek/model.safetensors\n",
      "mymodel/LLaMA-Factory/mydeepseek/special_tokens_map.json\n",
      "mymodel/LLaMA-Factory/mydeepseek/config.json\n",
      "mymodel/LLaMA-Factory/mydeepseek/tokenizer_config.json\n"
     ]
    }
   ],
   "source": [
    "import botocore\n",
    "import os\n",
    "\n",
    "from boto3.session import Session\n",
    "\n",
    "aws_access_key_id = 'openshift'\n",
    "aws_secret_access_key = 'openshift'\n",
    "\n",
    "session = Session(aws_access_key_id=aws_access_key_id, aws_secret_access_key=aws_secret_access_key)\n",
    "\n",
    "# s3 session\n",
    "s3 = session.resource('s3', endpoint_url='http://minio-svc.minio-store.svc.cluster.local:9000')\n",
    "\n",
    "bucket = s3.Bucket(\"openshift\")\n",
    "\n",
    "for filename in os.listdir(directory):\n",
    "    f = os.path.join(directory, filename)\n",
    "        # checking if it is a file\n",
    "    if os.path.isfile(f):\n",
    "       with open(f, 'rb') as data:\n",
    "         objkey = \"/mymodel/\"+f\n",
    "         print(objkey[1:])\n",
    "         bucket.put_object(Key=objkey[1:], Body=data)\n",
    "\n"
   ]
  },
  {
   "cell_type": "code",
   "execution_count": null,
   "id": "5f659381-5f20-445c-a3f7-cc232ec466b7",
   "metadata": {},
   "outputs": [],
   "source": []
  }
 ],
 "metadata": {
  "kernelspec": {
   "display_name": "Python 3.11",
   "language": "python",
   "name": "python3"
  },
  "language_info": {
   "codemirror_mode": {
    "name": "ipython",
    "version": 3
   },
   "file_extension": ".py",
   "mimetype": "text/x-python",
   "name": "python",
   "nbconvert_exporter": "python",
   "pygments_lexer": "ipython3",
   "version": "3.11.9"
  }
 },
 "nbformat": 4,
 "nbformat_minor": 5
}
